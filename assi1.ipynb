{
 "cells": [
  {
   "cell_type": "code",
   "execution_count": 2,
   "id": "bc5c0bed",
   "metadata": {},
   "outputs": [],
   "source": [
    "import numpy as np"
   ]
  },
  {
   "cell_type": "code",
   "execution_count": 9,
   "id": "13794536",
   "metadata": {},
   "outputs": [
    {
     "name": "stdout",
     "output_type": "stream",
     "text": [
      "[5 4 6 3 2 1]\n",
      "[5 4 6 3 2 1]\n"
     ]
    }
   ],
   "source": [
    "# ques 1 \n",
    "arr=np.array([1,2,3,6,4,5])\n",
    "print(np.flip(arr))\n",
    "#method2\n",
    "print(arr[::-1])"
   ]
  },
  {
   "cell_type": "code",
   "execution_count": null,
   "id": "1c090ade",
   "metadata": {},
   "outputs": [
    {
     "name": "stdout",
     "output_type": "stream",
     "text": [
      "[1 2 3 2 4 5 1 2 3]\n",
      "[1 2 3 2 4 5 1 2 3]\n"
     ]
    }
   ],
   "source": [
    "# b part\n",
    "arr1=np.array([[1,2,3],[2,4,5],[1,2,3]])\n",
    "flat=arr1.flatten()\n",
    "print(flat)\n",
    "print(arr1.ravel())"
   ]
  },
  {
   "cell_type": "code",
   "execution_count": null,
   "id": "f802b9f9",
   "metadata": {},
   "outputs": [
    {
     "name": "stdout",
     "output_type": "stream",
     "text": [
      "[[ True  True]\n",
      " [ True  True]]\n"
     ]
    }
   ],
   "source": [
    "# c part\n",
    "arr2=np.array([[1,2],[3,4]])\n",
    "arr3=np.array([[1,2],[3,4]])\n",
    "print(arr2==arr3)"
   ]
  },
  {
   "cell_type": "code",
   "execution_count": 22,
   "id": "0ad25e0a",
   "metadata": {},
   "outputs": [
    {
     "name": "stdout",
     "output_type": "stream",
     "text": [
      "Most frequent value: 1\n",
      "Indices: [0 5 7 8 9]\n",
      "Most frequent value: 1\n",
      "Indices: [ 0  1  2 10]\n"
     ]
    }
   ],
   "source": [
    "x = np.array([1, 2, 3, 4, 5, 1, 2, 1, 1, 1])\n",
    "\n",
    "most_freq = np.bincount(x).argmax()\n",
    "indices = np.where(x == most_freq)[0]\n",
    "\n",
    "print(\"Most frequent value:\", most_freq)\n",
    "print(\"Indices:\", indices)\n",
    "\n",
    "y = np.array([1,1,1,2,3,4,2,4,3,3,1])\n",
    "\n",
    "most_freq = np.bincount(y).argmax()\n",
    "indices = np.where(y == most_freq)[0]\n",
    "\n",
    "print(\"Most frequent value:\", most_freq)\n",
    "print(\"Indices:\", indices)"
   ]
  },
  {
   "cell_type": "code",
   "execution_count": 26,
   "id": "56acdf15",
   "metadata": {},
   "outputs": [
    {
     "name": "stdout",
     "output_type": "stream",
     "text": [
      "Total sum: 45\n",
      "row: [[14]\n",
      " [16]\n",
      " [15]]\n",
      "col: [[20  9 16]]\n"
     ]
    }
   ],
   "source": [
    "gfg = np.matrix('[4, 1, 9; 12, 3, 1; 4, 5, 6]')\n",
    "print(\"Total sum:\", gfg.sum())\n",
    "print(\"row:\", gfg.sum(axis=1))\n",
    "print(\"col:\", gfg.sum(axis=0))"
   ]
  },
  {
   "cell_type": "code",
   "execution_count": 28,
   "id": "4eb57487",
   "metadata": {},
   "outputs": [
    {
     "name": "stdout",
     "output_type": "stream",
     "text": [
      "Sum of diagonal elements: 176\n",
      "Eigenvalues: EigResult(eigenvalues=array([98.16835147, 28.097044  , 49.73460452]), eigenvectors=array([[ 0.4574917 ,  0.34637121, -0.15017693],\n",
      "       [ 0.28447814, -0.72784061, -0.4852124 ],\n",
      "       [ 0.84248058,  0.59184038,  0.8614034 ]]))\n",
      "Eigenvectors:\n",
      " EigResult(eigenvalues=array([98.16835147, 28.097044  , 49.73460452]), eigenvectors=array([[ 0.4574917 ,  0.34637121, -0.15017693],\n",
      "       [ 0.28447814, -0.72784061, -0.4852124 ],\n",
      "       [ 0.84248058,  0.59184038,  0.8614034 ]]))\n",
      "Inverse of matrix:\n",
      " [[ 0.02404141 -0.00911212 -0.00444671]\n",
      " [-0.01667882  0.02966905  0.0024785 ]\n",
      " [ 0.00631287 -0.01603732  0.01217379]]\n",
      "Determinant of matrix: 137180.0000000001\n"
     ]
    }
   ],
   "source": [
    "n_array = np.array([[55, 25, 15],[30, 44, 2],[11, 45, 77]])\n",
    "diagonal_sum = np.trace(n_array)\n",
    "print(\"Sum of diagonal elements:\", diagonal_sum)\n",
    "eigen_values= np.linalg.eig(n_array)\n",
    "print(\"Eigenvalues:\", eigen_values)\n",
    "eigen_vectors = np.linalg.eig(n_array)\n",
    "print(\"Eigenvectors:\\n\", eigen_vectors)\n",
    "inverse_matrix = np.linalg.inv(n_array)\n",
    "print(\"Inverse of matrix:\\n\", inverse_matrix)\n",
    "determinant = np.linalg.det(n_array)\n",
    "print(\"Determinant of matrix:\", determinant)\n"
   ]
  },
  {
   "cell_type": "code",
   "execution_count": 31,
   "id": "cc35528c",
   "metadata": {},
   "outputs": [
    {
     "name": "stdout",
     "output_type": "stream",
     "text": [
      "Matrix Multiplication:\n",
      " [[16 19]\n",
      " [26 31]]\n",
      "Covariance Matrix:\n",
      " [[0.66666667 1.        ]\n",
      " [1.         1.66666667]]\n",
      "Matrix Multiplication:\n",
      " [[16 19  5]\n",
      " [26 31  8]\n",
      " [46 55 14]]\n",
      "Covariance Matrix:\n",
      " [[2.16666667 0.23333333]\n",
      " [0.23333333 5.36666667]]\n"
     ]
    }
   ],
   "source": [
    "p = np.array([[1, 2], [2, 3]])\n",
    "q = np.array([[4, 5], [6, 7]])\n",
    "product = np.matmul(p, q)\n",
    "print(\"Matrix Multiplication:\\n\", product)\n",
    "covariance = np.cov(p.flatten(), q.flatten())\n",
    "print(\"Covariance Matrix:\\n\", covariance)\n",
    "p = np.array([[1, 2], [2, 3], [4, 5]])\n",
    "q = np.array([[4, 5, 1], [6, 7, 2]])\n",
    "product = np.matmul(p, q)\n",
    "print(\"Matrix Multiplication:\\n\", product)\n",
    "covariance = np.cov(p.flatten(), q.flatten())\n",
    "print(\"Covariance Matrix:\\n\", covariance)\n"
   ]
  },
  {
   "cell_type": "code",
   "execution_count": 33,
   "id": "7641da9d",
   "metadata": {},
   "outputs": [
    {
     "name": "stdout",
     "output_type": "stream",
     "text": [
      "Inner Product:\n",
      " [[17 52]\n",
      " [13 62]]\n",
      "Outer Product:\n",
      " [[ 2 10  0 10 20  6]\n",
      " [ 3 15  0 15 30  9]\n",
      " [ 4 20  0 20 40 12]\n",
      " [ 3 15  0 15 30  9]\n",
      " [ 2 10  0 10 20  6]\n",
      " [ 9 45  0 45 90 27]]\n",
      "Cartesian Product:\n",
      " [[ 2  1]\n",
      " [ 2  5]\n",
      " [ 2  0]\n",
      " [ 2  5]\n",
      " [ 2 10]\n",
      " [ 2  3]\n",
      " [ 3  1]\n",
      " [ 3  5]\n",
      " [ 3  0]\n",
      " [ 3  5]\n",
      " [ 3 10]\n",
      " [ 3  3]\n",
      " [ 4  1]\n",
      " [ 4  5]\n",
      " [ 4  0]\n",
      " [ 4  5]\n",
      " [ 4 10]\n",
      " [ 4  3]\n",
      " [ 3  1]\n",
      " [ 3  5]\n",
      " [ 3  0]\n",
      " [ 3  5]\n",
      " [ 3 10]\n",
      " [ 3  3]\n",
      " [ 2  1]\n",
      " [ 2  5]\n",
      " [ 2  0]\n",
      " [ 2  5]\n",
      " [ 2 10]\n",
      " [ 2  3]\n",
      " [ 9  1]\n",
      " [ 9  5]\n",
      " [ 9  0]\n",
      " [ 9  5]\n",
      " [ 9 10]\n",
      " [ 9  3]]\n"
     ]
    }
   ],
   "source": [
    "x = np.array([[2, 3, 4],[3, 2, 9]])\n",
    "\n",
    "y = np.array([[1, 5, 0],[5, 10, 3]])\n",
    "inner = np.inner(x, y)\n",
    "print(\"Inner Product:\\n\", inner)\n",
    "outer = np.outer(x.flatten(), y.flatten())\n",
    "print(\"Outer Product:\\n\", outer)\n",
    "from itertools import product\n",
    "x_flat = x.flatten()\n",
    "y_flat = y.flatten()\n",
    "\n",
    "cartesian = np.array(list(product(x_flat, y_flat)))\n",
    "print(\"Cartesian Product:\\n\", cartesian)\n"
   ]
  },
  {
   "cell_type": "code",
   "execution_count": 35,
   "id": "1ae554f9",
   "metadata": {},
   "outputs": [
    {
     "name": "stdout",
     "output_type": "stream",
     "text": [
      "Absolute Values:\n",
      " [[1 2 3]\n",
      " [4 5 6]]\n",
      "Flattened Percentiles (25, 50, 75): [-3.5 -0.5  2.5]\n",
      "Column-wise Percentiles:\n",
      " [[-2.75 -0.25 -3.75]\n",
      " [-1.5   1.5  -1.5 ]\n",
      " [-0.25  3.25  0.75]]\n",
      "Row-wise Percentiles:\n",
      " [[-0.5 -5. ]\n",
      " [ 1.  -4. ]\n",
      " [ 2.   0.5]]\n",
      "Flattened - Mean: -0.5 | Median: -0.5 | Std Dev: 3.8622100754188224\n",
      "Column-wise - Mean: [-1.5  1.5 -1.5]\n",
      "Column-wise - Median: [-1.5  1.5 -1.5]\n",
      "Column-wise - Std Dev: [2.5 3.5 4.5]\n",
      "Row-wise - Mean: [ 0.66666667 -1.66666667]\n",
      "Row-wise - Median: [ 1. -4.]\n",
      "Row-wise - Std Dev: [2.05480467 4.78423336]\n"
     ]
    }
   ],
   "source": [
    "#ques2\n",
    "array = np.array([[1, -2, 3],[-4, 5, -6]])\n",
    "abs_array = np.abs(array)\n",
    "print(\"Absolute Values:\\n\", abs_array)\n",
    "p_flat = np.percentile(array, [25, 50, 75])\n",
    "print(\"Flattened Percentiles (25, 50, 75):\", p_flat)\n",
    "p_col = np.percentile(array, [25, 50, 75], axis=0)\n",
    "print(\"Column-wise Percentiles:\\n\", p_col)\n",
    "p_row = np.percentile(array, [25, 50, 75], axis=1)\n",
    "print(\"Row-wise Percentiles:\\n\", p_row)\n",
    "# Flattened\n",
    "mean_flat = np.mean(array)\n",
    "median_flat = np.median(array)\n",
    "std_flat = np.std(array)\n",
    "\n",
    "print(\"Flattened - Mean:\", mean_flat, \"| Median:\", median_flat, \"| Std Dev:\", std_flat)\n",
    "\n",
    "# Column-wise\n",
    "mean_col = np.mean(array, axis=0)\n",
    "median_col = np.median(array, axis=0)\n",
    "std_col = np.std(array, axis=0)\n",
    "\n",
    "print(\"Column-wise - Mean:\", mean_col)\n",
    "print(\"Column-wise - Median:\", median_col)\n",
    "print(\"Column-wise - Std Dev:\", std_col)\n",
    "\n",
    "# Row-wise\n",
    "mean_row = np.mean(array, axis=1)\n",
    "median_row = np.median(array, axis=1)\n",
    "std_row = np.std(array, axis=1)\n",
    "\n",
    "print(\"Row-wise - Mean:\", mean_row)\n",
    "print(\"Row-wise - Median:\", median_row)\n",
    "print(\"Row-wise - Std Dev:\", std_row)\n",
    "\n"
   ]
  },
  {
   "cell_type": "code",
   "execution_count": 37,
   "id": "0383eefb",
   "metadata": {},
   "outputs": [
    {
     "name": "stdout",
     "output_type": "stream",
     "text": [
      "Floor: [-2. -2. -1.  0.  1.  1.  3.]\n",
      "Ceiling: [-1. -1. -0.  1.  2.  2.  3.]\n",
      "Truncated: [-1. -1. -0.  0.  1.  1.  3.]\n",
      "Rounded: [-2. -2. -0.  0.  2.  2.  3.]\n"
     ]
    }
   ],
   "source": [
    "a = np.array([-1.8, -1.6, -0.5, 0.5, 1.6, 1.8, 3.0])\n",
    "floor_vals = np.floor(a)\n",
    "print(\"Floor:\", floor_vals)\n",
    "ceil_vals = np.ceil(a)\n",
    "print(\"Ceiling:\", ceil_vals)\n",
    "trunc_vals = np.trunc(a)\n",
    "print(\"Truncated:\", trunc_vals)\n",
    "rounded_vals = np.round(a)\n",
    "print(\"Rounded:\", rounded_vals)\n"
   ]
  },
  {
   "cell_type": "code",
   "execution_count": 39,
   "id": "f0be8dd8",
   "metadata": {},
   "outputs": [
    {
     "name": "stdout",
     "output_type": "stream",
     "text": [
      "Sorted array: [ 10  16  16  52  54  62 453]\n",
      "Indices of sorted array: [0 3 4 1 5 2 6]\n",
      "4 smallest elements: [10 16 16 52]\n",
      "5 largest elements: [ 16  52  54  62 453]\n"
     ]
    }
   ],
   "source": [
    "#ques 3\n",
    "array = np.array([10, 52, 62, 16, 16, 54, 453])\n",
    "sorted_array = np.sort(array)\n",
    "print(\"Sorted array:\", sorted_array)\n",
    "sorted_indices = np.argsort(array)\n",
    "print(\"Indices of sorted array:\", sorted_indices)\n",
    "smallest_4 = np.sort(array)[:4]\n",
    "print(\"4 smallest elements:\", smallest_4)\n",
    "largest_5 = np.sort(array)[-5:]\n",
    "print(\"5 largest elements:\", largest_5)\n"
   ]
  },
  {
   "cell_type": "code",
   "execution_count": 41,
   "id": "d8f73f19",
   "metadata": {},
   "outputs": [
    {
     "name": "stdout",
     "output_type": "stream",
     "text": [
      "Integer elements only: [1. 2. 3. 2.]\n",
      "Float elements only: [1.2 2.2]\n"
     ]
    }
   ],
   "source": [
    "array = np.array([1.0, 1.2, 2.2, 2.0, 3.0, 2.0])\n",
    "integers_only = array[array == np.floor(array)]\n",
    "print(\"Integer elements only:\", integers_only)\n",
    "floats_only = array[array != np.floor(array)]\n",
    "print(\"Float elements only:\", floats_only)\n"
   ]
  },
  {
   "cell_type": "code",
   "execution_count": null,
   "id": "e4c72561",
   "metadata": {},
   "outputs": [],
   "source": []
  }
 ],
 "metadata": {
  "kernelspec": {
   "display_name": "env",
   "language": "python",
   "name": "python3"
  },
  "language_info": {
   "codemirror_mode": {
    "name": "ipython",
    "version": 3
   },
   "file_extension": ".py",
   "mimetype": "text/x-python",
   "name": "python",
   "nbconvert_exporter": "python",
   "pygments_lexer": "ipython3",
   "version": "3.12.3"
  }
 },
 "nbformat": 4,
 "nbformat_minor": 5
}
